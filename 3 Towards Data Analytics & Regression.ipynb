{
 "cells": [
  {
   "cell_type": "markdown",
   "id": "7c910532",
   "metadata": {},
   "source": [
    "# Data Analytics and Regression\n",
    " Today's goals:\n",
    " - Introduce the basic idea of regression\n",
    " - Perform linear regression using closed form solution\n",
    " - Perform regression using gradient descent"
   ]
  },
  {
   "cell_type": "markdown",
   "id": "ac10cb4f",
   "metadata": {},
   "source": [
    "# Data analytics\n",
    "- At the heart of engineering and science is data analytics\n",
    "- A mathematical model represents our believe on how a system works or how factors are related\n",
    "    - Ideal gas law, mass action kinetics, heat transfer, etc. are all the result of data analytics\n",
    "- To test the validity of a model, model predictions are compared to data\n",
    "- A good appreciation of the underlying assumptions built into a model and the assumptions used in evaluating a model is essential in research\n"
   ]
  },
  {
   "cell_type": "markdown",
   "id": "cce3b137",
   "metadata": {
    "id": "cce3b137"
   },
   "source": [
    "# A model is any mathematical relationship between variables\n",
    "\n",
    "- In ChE, we tend to get stuck on ODEs as being the only type of model.\n",
    "- Any mathematical relationship between variables is a **model**\n",
    "    - $y = mx +b$ is a model where y depends linearly on x and has a starting value of b when x = 0.\n",
    "    - If z > 0 then print('sure') is a logic model\n",
    "- For any model, we need to understand how to quantify the model parameters, which also relates to the idea of \"which parameters even matter??\"\n",
    "    - If you have a complex ODE model or complex algebriac model ($ x = kx^3-sin(x)^z$), not all parameters are equally important!\n",
    "    - This is a real-life issue: you have to decide where to put your money. \n",
    "        - Don't waste it measuring things that don't matter!"
   ]
  },
  {
   "cell_type": "markdown",
   "id": "5ba5fffd",
   "metadata": {
    "id": "5ba5fffd"
   },
   "source": [
    "# Regression: \n",
    "\n",
    "- Regression means to find some parameters of a model that best reproduces some known data. \n",
    "- \"Best reproduces\" is somewhat vague and depends on how we quantify the error between our model's predictions and our data\n",
    "- Let's start with a simple scenario. Let's say we want to create a model that uses the height of an individual to predict their weight (a la BMI).\n",
    "- We will need 3 things:\n",
    " 1. The model: In this case, a simple linear model makes sense, so $w = mh+b$, where m and b are the parameters we need to estimate.\n",
    " 2. The data: We'll imagine we collected data from 5 volunteers and it's in the cell below\n",
    "    - Person 1: 60\" 150lbs\n",
    "    - Person 2: 55\" 145lbs\n",
    "    - Person 3: 59\" 152lbs\n",
    "    - Person 4: 65\" 165lbs\n",
    "    - Person 5: 48\" 120lbs\n",
    "\n"
   ]
  },
  {
   "cell_type": "markdown",
   "id": "9c60a536",
   "metadata": {
    "id": "9c60a536"
   },
   "source": [
    "# Cost function / objective function / error function\n",
    "\n",
    "- Before fitting a model to data, we need to define how we calculate the error between the model predictions and the data\n",
    "- What our regression function will do is test some values of the parameters, predict the weight of each person using their height and then calculate the error\n",
    "- But error can be calculated many ways: the absolute values of the distance between the prediction and actual measurement, sum of squared errors, maximizing a statistical likelihood function and more.\n",
    "- A common function used is the \"sum of squared errors\" (AKA **SSE**) but why? <a href = \"Standard Deviation and Variance.pdf\"> CLICK HERE</a> and go to Footnote: Why the Squares?"
   ]
  },
  {
   "cell_type": "markdown",
   "id": "6e01a155",
   "metadata": {
    "id": "6e01a155"
   },
   "source": [
    "# How regression solver/optimizer works\n",
    "Once we collect our data, define our equations, and define our error function, we need to create a function that tests many different sets of parameter values in order to find the one that reduces our error the most.\n",
    "- If we have a very simple, linear model (y = mx + nz + b), we're in luck because this can be solved exactly without repeated guesses.\n",
    "- But typically, we will have a complex model (e.g. nonlinear ODEs), which cannot be analytically solved.\n",
    "- Instead, we have to use what are basically \"search algorithms\". Regression solvers use information on how the cost function changes in order to search for minima."
   ]
  },
  {
   "cell_type": "markdown",
   "id": "709c3361",
   "metadata": {},
   "source": [
    "# Visualize linear regression\n",
    "- Let's start with the easiest and laziest approach: random guessing!\n",
    "    - A very valid approach to quantifying the values of the model parameters for which the model output fits the data is to guess a lot of different values and select the value that minimized the objective function\n",
    "    - As you can guess, this is slow, tedious and likely to miss values, but still worth a try\n",
    "    - And let's also apply some **common sense**: If someone is 0\" tall, they probably weigh 0 lbs. So let b = 0."
   ]
  },
  {
   "cell_type": "code",
   "execution_count": 1,
   "id": "9b1026a1",
   "metadata": {
    "colab": {
     "base_uri": "https://localhost:8080/",
     "height": 279
    },
    "executionInfo": {
     "elapsed": 740,
     "status": "ok",
     "timestamp": 1635277240747,
     "user": {
      "displayName": "Jason Shoemaker",
      "photoUrl": "https://lh3.googleusercontent.com/a/default-user=s64",
      "userId": "09936874856589552694"
     },
     "user_tz": 240
    },
    "id": "9b1026a1",
    "outputId": "cecbce91-2553-4b09-c294-2dfde0620aa9"
   },
   "outputs": [
    {
     "data": {
      "image/png": "[encoded data removed]",
      "text/plain": [
       "<Figure size 432x288 with 1 Axes>"
      ]
     },
     "metadata": {
      "needs_background": "light"
     },
     "output_type": "display_data"
    }
   ],
   "source": [
    "import numpy as np;\n",
    "import math\n",
    "import matplotlib.pyplot as plt\n",
    "# This makes the plots appear inside the notebook\n",
    "%matplotlib inline\n",
    "\n",
    "# The data to \"train\" the model\n",
    "weight = np.array([150,145,152,165,120]);\n",
    "height = np.array([60, 55, 59, 65, 48]);\n",
    "\n",
    "# Try one guess. Always good practice to take some initial guesses!! Try m = .5 and .1\n",
    "m = .1;\n",
    "predicted_height = m*weight;\n",
    "plt.plot(weight, predicted_height, label = \"prediction\");\n",
    "plt.plot(weight, height,'or', label = \"data\");\n",
    "plt.xlabel(\"height\");\n",
    "plt.ylabel(\"weight\");\n",
    "plt.legend();\n",
    "\n",
    "\n"
   ]
  },
  {
   "cell_type": "markdown",
   "id": "3e2de4b6",
   "metadata": {
    "id": "3e2de4b6"
   },
   "source": [
    "# We observe\n",
    "\n",
    "We see that m = .1 is too low and 0.5 is a little too high to fit the data. So let's write a loop and test several more value of m. And this time, let's calculate our sum of squared error (SSE)."
   ]
  },
  {
   "cell_type": "code",
   "execution_count": 2,
   "id": "f3286ef9",
   "metadata": {
    "colab": {
     "base_uri": "https://localhost:8080/",
     "height": 296
    },
    "executionInfo": {
     "elapsed": 500,
     "status": "ok",
     "timestamp": 1635277241242,
     "user": {
      "displayName": "Jason Shoemaker",
      "photoUrl": "https://lh3.googleusercontent.com/a/default-user=s64",
      "userId": "09936874856589552694"
     },
     "user_tz": 240
    },
    "id": "f3286ef9",
    "outputId": "1b02af5e-4f99-4718-e628-b28d802a9b17"
   },
   "outputs": [
    {
     "data": {
      "text/plain": [
       "Text(0, 0.5, 'Sum of Squared Error')"
      ]
     },
     "execution_count": 2,
     "metadata": {},
     "output_type": "execute_result"
    },
    {
     "data": {
      "image/png": "[encoded data removed]",
      "text/plain": [
       "<Figure size 432x288 with 1 Axes>"
      ]
     },
     "metadata": {
      "needs_background": "light"
     },
     "output_type": "display_data"
    }
   ],
   "source": [
    "# Our model is w = m*h+b where b =0. Let's calculate our error for different values of m\n",
    "for m in np.arange(0,1,.05):\n",
    "    predicted_height = m*weight;\n",
    "    err = predicted_height - height;\n",
    "    SSE = np.sum(err**2);\n",
    "    plt.plot(m, SSE,'o');\n",
    "    \n",
    "plt.rcParams.update({'font.size': 14})  # increase the font size\n",
    "plt.xlabel(\"model slope\")\n",
    "plt.ylabel(\"Sum of Squared Error\")"
   ]
  },
  {
   "cell_type": "markdown",
   "id": "664db567",
   "metadata": {
    "id": "664db567"
   },
   "source": [
    "# Results\n",
    "\n",
    "- We see very clearly that our SSE gets smaller as m goes from 0 to about m = 0.4\n",
    "- After this value, we see the SSE begins to rise again, indicating poorer fit to the data\n",
    "- This is a nutshell is how a regression solver will work!\n",
    "    - All regression solvers use different strategies but most are based on the idea of using the derivative of the SSE to decide what values of parameters to test.\n",
    "    - We'll cover gradient descent in some minor detail, but not higher algorithms"
   ]
  },
  {
   "cell_type": "markdown",
   "id": "1b71532d",
   "metadata": {
    "id": "1b71532d"
   },
   "source": [
    "# Regression for Linear Models can be done easily with least squares\n",
    "\n",
    "- To summarize the steps, you take your linear equation, plug it into the SSE equation, take the derivative of the SSE equation, set it equal to zero (which is the minimum!) and solve for your parameter.\n",
    "- See any basic text for the derivation or <a href = \"SLR_Leastsquares.pdf\"> CLICK HERE</a> \n"
   ]
  },
  {
   "cell_type": "markdown",
   "id": "4e86fc3f",
   "metadata": {
    "id": "4e86fc3f"
   },
   "source": [
    "# Least squares calculation\n",
    "\n",
    "- Assume a linear model $\\vec{y} = \\beta X$ where you have m pairs of output and input measurements such that \n",
    "    - y, the measured output, is m x 1 dimensions\n",
    "    - X, the measured inputs to the model, has dimensions m x p. If including an intercept in the model, the first column of the X matrix should all be 1s. Otherwise, X is m x p.\n",
    "    - And $\\beta$ are the parameters to be estimated, p x 1.\n",
    "- The value of the parameters that will minimize the SOS error cost function is: $\\beta = (X^T X)^{-1}X^T \\vec{y}$"
   ]
  },
  {
   "cell_type": "code",
   "execution_count": 3,
   "id": "1aede9d1",
   "metadata": {
    "colab": {
     "base_uri": "https://localhost:8080/"
    },
    "executionInfo": {
     "elapsed": 247,
     "status": "ok",
     "timestamp": 1635277492100,
     "user": {
      "displayName": "Jason Shoemaker",
      "photoUrl": "https://lh3.googleusercontent.com/a/default-user=s64",
      "userId": "09936874856589552694"
     },
     "user_tz": 240
    },
    "id": "1aede9d1",
    "outputId": "65550796-0d9d-44f8-8b23-4b64d808e72f"
   },
   "outputs": [
    {
     "name": "stdout",
     "output_type": "stream",
     "text": [
      "[[  1. 150.]\n",
      " [  1. 145.]\n",
      " [  1. 152.]\n",
      " [  1. 165.]\n",
      " [  1. 120.]]\n",
      "Our intercept is  2.1303709144318077 and our slope is 0.37752478883584417\n",
      "Our slope when we force the intercept to be zero =  [0.39193009]\n"
     ]
    }
   ],
   "source": [
    "# Need to make array matrices. This is for when there is an intercept\n",
    "X = np.c_[np.ones(5),weight]\n",
    "print(X)\n",
    "\n",
    "from numpy.linalg import inv\n",
    "tmp = inv(np.matmul(np.transpose(X),X))\n",
    "\n",
    "INTERCEPT, SLOPE = tmp @ np.transpose(X) @ height\n",
    "print(\"Our intercept is \",INTERCEPT, \"and our slope is\", SLOPE)\n",
    "\n",
    "\n",
    "# Need to make array matrices. This is for when there is NO intercept\n",
    "X = np.c_[weight]\n",
    "tmp = inv(np.matmul(np.transpose(X),X))\n",
    "\n",
    "SLOPE = tmp @ np.transpose(X) @ height\n",
    "print(\"Our slope when we force the intercept to be zero = \",SLOPE)"
   ]
  },
  {
   "cell_type": "code",
   "execution_count": 6,
   "id": "a4cf3a85",
   "metadata": {},
   "outputs": [
    {
     "name": "stdout",
     "output_type": "stream",
     "text": [
      "                            OLS Regression Results                            \n",
      "==============================================================================\n",
      "Dep. Variable:                      y   R-squared:                       0.963\n",
      "Model:                            OLS   Adj. R-squared:                  0.951\n",
      "Method:                 Least Squares   F-statistic:                     78.12\n",
      "Date:                Mon, 15 Aug 2022   Prob (F-statistic):            0.00305\n",
      "Time:                        20:46:09   Log-Likelihood:                -7.5345\n",
      "No. Observations:                   5   AIC:                             19.07\n",
      "Df Residuals:                       3   BIC:                             18.29\n",
      "Df Model:                           1                                         \n",
      "Covariance Type:            nonrobust                                         \n",
      "==============================================================================\n",
      "                 coef    std err          t      P>|t|      [0.025      0.975]\n",
      "------------------------------------------------------------------------------\n",
      "const          2.1304      6.285      0.339      0.757     -17.872      22.132\n",
      "x1             0.3775      0.043      8.838      0.003       0.242       0.513\n",
      "==============================================================================\n",
      "Omnibus:                          nan   Durbin-Watson:                   2.134\n",
      "Prob(Omnibus):                    nan   Jarque-Bera (JB):                0.551\n",
      "Skew:                          -0.677   Prob(JB):                        0.759\n",
      "Kurtosis:                       2.099   Cond. No.                     1.47e+03\n",
      "==============================================================================\n",
      "\n",
      "Notes:\n",
      "[1] Standard Errors assume that the covariance matrix of the errors is correctly specified.\n",
      "[2] The condition number is large, 1.47e+03. This might indicate that there are\n",
      "strong multicollinearity or other numerical problems.\n"
     ]
    },
    {
     "name": "stderr",
     "output_type": "stream",
     "text": [
      "C:\\ProgramData\\Anaconda3\\lib\\site-packages\\statsmodels\\stats\\stattools.py:74: ValueWarning: omni_normtest is not valid with less than 8 observations; 5 samples were given.\n",
      "  warn(\"omni_normtest is not valid with less than 8 observations; %i \"\n"
     ]
    }
   ],
   "source": [
    "import statsmodels.api as sm\n",
    "model = sm.OLS(height, sm.add_constant(weight)).fit()\n",
    "\n",
    "# erase the add constant above to remove the intercept of the model.\n",
    "print(model.summary())"
   ]
  },
  {
   "cell_type": "markdown",
   "id": "9b7c2e31",
   "metadata": {
    "id": "9b7c2e31"
   },
   "source": [
    "# Gradient Descent Regression\n",
    "\n",
    "- Gradient descent is one of the easiest but still effective algorithms for fitting parameters.\n",
    "- In a nutshell (I like this word today), gradient descent \n",
    "    - Takes a starting guess\n",
    "    - Estimates the derivative of the **error function** with respect to the parameters\n",
    "        - Mathematically $\\frac{\\partial{SSE}}{\\partial{m}}$ in our simple example\n",
    "        - A negative derivative means the error is getting smaller.\n",
    "        - Sometimes, the derivative can be calculated by hand and used to speed up solver. But most often, the solver will approximate the derivative at each step (a la homework 4 solutions)\n",
    "    - Uses the derivative to determine the \"direction\" to change the parameter value\n",
    "        - In our example, should it make m more larger (move to the right) or smaller (move to the left)\n",
    "    - Final decision: how big of a move to make in that direction\n",
    "        - This is called the **learning rate**"
   ]
  },
  {
   "cell_type": "code",
   "execution_count": 4,
   "id": "3cd9805d",
   "metadata": {
    "colab": {
     "base_uri": "https://localhost:8080/",
     "height": 322
    },
    "executionInfo": {
     "elapsed": 1306,
     "status": "ok",
     "timestamp": 1635277242546,
     "user": {
      "displayName": "Jason Shoemaker",
      "photoUrl": "https://lh3.googleusercontent.com/a/default-user=s64",
      "userId": "09936874856589552694"
     },
     "user_tz": 240
    },
    "id": "3cd9805d",
    "outputId": "1be22c4c-a462-41ac-f38b-1ec332885d7f"
   },
   "outputs": [
    {
     "name": "stdout",
     "output_type": "stream",
     "text": [
      "Our best value for our slope is  0.38693009033581705  with SSE 8.896476931581063\n",
      "0.39207650273224043\n"
     ]
    },
    {
     "data": {
      "image/png": "[encoded data removed]",
      "text/plain": [
       "<Figure size 432x288 with 1 Axes>"
      ]
     },
     "metadata": {
      "needs_background": "light"
     },
     "output_type": "display_data"
    }
   ],
   "source": [
    "\n",
    "\n",
    "# First, we need to be able to approximate the derivative.\n",
    "def SSE(m):\n",
    "    predicted_height = m*weight;\n",
    "    err = predicted_height - height;\n",
    "    SSE = np.sum(err**2);\n",
    "    return SSE;\n",
    "\n",
    "def derivative(m):\n",
    "    DERIVATIVE = (SSE(m+0.01)-SSE(m))/0.01;\n",
    "    return DERIVATIVE\n",
    "\n",
    "derivative(.4)\n",
    "\n",
    "n = 0;\n",
    "current_m = .1;\n",
    "rate = 0.000001; # Try raising in very small increments, from 0.000001 to 0.00001\n",
    "\n",
    "# Plot our initial guess' SSE and label zero\n",
    "plt.plot(current_m, SSE(current_m),'o');\n",
    "plt.text(current_m, SSE(current_m),n);\n",
    "\n",
    "while n < 100:\n",
    "    new_m = current_m - rate * derivative(current_m);\n",
    "    current_m=new_m;\n",
    "    # print(new_m);\n",
    "    n = n + 1;\n",
    "    plt.plot(new_m, SSE(new_m),'o');\n",
    "    plt.text(new_m, SSE(new_m),n);\n",
    "    \n",
    "print(\"Our best value for our slope is \", new_m, \" with SSE\", SSE(new_m))\n",
    "plt.xlabel(\"m\");\n",
    "plt.ylabel(\"Sum of Squared Error\");\n",
    "\n",
    "# FYI - for linear models like this, the best fit for m should simply be the ratio of the mean of the two measurements\n",
    "m = np.mean(height)/np.mean(weight);\n",
    "print(m)"
   ]
  },
  {
   "cell_type": "markdown",
   "id": "3dba81eb",
   "metadata": {
    "id": "3dba81eb"
   },
   "source": [
    "# Observations from simple gradient descent algorithm\n",
    "\n",
    "- It works for the correct values of the learning rate\n",
    "    - Choosing a proper learning rate can be difficult. A learning rate that is too small leads to painfully slow convergence, while a learning rate that is too large can lead to divergence\n",
    "- Gradient descent can be used for linear or nonlinear systems. But typically, linear systems can be solved precisely (see below)\n",
    "- Normalizing the data and/or the SSE can make selection of the learning rate a little more intuitive\n",
    "- Most advanced regression algorithms have learning rate schedules or adaptive learning rate schemes built in \n",
    "- Lastly, two commons ways for deciding when the regression algorithm should stop searching is to define a maximum # of iterations or to set a minimum step size (i.e. the learning rate * derivative)."
   ]
  },
  {
   "cell_type": "markdown",
   "id": "044b4c65",
   "metadata": {
    "id": "044b4c65"
   },
   "source": [
    "# KEY GUIDELINES for Regression\n",
    "\n",
    "1. Always plot and analyze your data BEFORE attempting to train a model to it\n",
    "    - The nature of your data will determine if the model is correct\n",
    "    - **Probably the most common mistake people make**\n",
    "    - Always consider normalized data (we'll discuss more later)\n",
    "2. Always analyze and understand the model\n",
    "    - We used a very simple model here but will show more complex ones soon.\n",
    "    - Often we can infer good estimates on some parameters without training. The fewer number of parameters or the better the initial guesses you make, the more likely you can train a model\n",
    "3. Very common for regression to fail for even mildly complex models\n",
    "    - Simple models (linear models, neural nets) will almost always train to data. They might not give great predictions but they will converge and give estimates\n",
    "    - But regression applied to complex models will very often fail to converge :-(\n",
    "    - Adressing failed convergence is about 90% of my lab's work"
   ]
  }
 ],
 "metadata": {
  "celltoolbar": "Slideshow",
  "colab": {
   "name": "7 Exam 1 Discussion & Towards Data Analytics Regression.ipynb",
   "provenance": []
  },
  "kernelspec": {
   "display_name": "Python 3",
   "language": "python",
   "name": "python3"
  },
  "language_info": {
   "codemirror_mode": {
    "name": "ipython",
    "version": 3
   },
   "file_extension": ".py",
   "mimetype": "text/x-python",
   "name": "python",
   "nbconvert_exporter": "python",
   "pygments_lexer": "ipython3",
   "version": "3.8.8"
  }
 },
 "nbformat": 4,
 "nbformat_minor": 5
}
